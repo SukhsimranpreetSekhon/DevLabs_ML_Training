{
 "cells": [
  {
   "cell_type": "code",
   "execution_count": null,
   "id": "8d0bdd80",
   "metadata": {},
   "outputs": [],
   "source": [
    "#Author: Aaron Hertner\n",
    "#Version: Python Base 3.8\n",
    "#Purpose: To expand on concepts learned from results of previous Anomaly Detection experiments"
   ]
  },
  {
   "cell_type": "code",
   "execution_count": null,
   "id": "9b2a19ee",
   "metadata": {},
   "outputs": [],
   "source": [
    "import warnings\n",
    "\n",
    "#graphing and util\n",
    "from matplotlib.cbook import mplDeprecation\n",
    "import matplotlib.pyplot as plt\n",
    "from mpl_toolkits.mplot3d import Axes3D\n",
    "import numpy as np\n",
    "import pandas as pd\n",
    "import seaborn as sb\n",
    "from collections import Counter\n",
    "import time\n",
    "from ipywidgets import interact, interactive\n",
    "import itertools\n",
    "from sklearn.metrics import confusion_matrix\n",
    "from sklearn.preprocessing import StandardScaler\n",
    "\n",
    "#ML Libraries\n",
    "from sklearn.model_selection import train_test_split\n",
    "\n",
    "#ML Models\n",
    "from sklearn.ensemble import IsolationForest\n",
    "from sklearn.ensemble import RandomForestClassifier\n",
    "from sklearn.neighbors import LocalOutlierFactor\n",
    "from sklearn.svm import OneClassSVM\n",
    "from sklearn.covariance import EllipticEnvelope\n",
    "from sklearn.decomposition import PCA\n",
    "\n",
    "warnings.filterwarnings(\"ignore\",category=mplDeprecation)"
   ]
  },
  {
   "cell_type": "code",
   "execution_count": null,
   "id": "6673fb5b",
   "metadata": {},
   "outputs": [],
   "source": []
  }
 ],
 "metadata": {
  "kernelspec": {
   "display_name": "Python 3.8 - AzureML",
   "language": "python",
   "name": "python38-azureml"
  },
  "language_info": {
   "codemirror_mode": {
    "name": "ipython",
    "version": 3
   },
   "file_extension": ".py",
   "mimetype": "text/x-python",
   "name": "python",
   "nbconvert_exporter": "python",
   "pygments_lexer": "ipython3",
   "version": "3.8.1"
  }
 },
 "nbformat": 4,
 "nbformat_minor": 5
}
